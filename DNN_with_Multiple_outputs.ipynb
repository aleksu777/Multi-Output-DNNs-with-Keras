{
  "nbformat": 4,
  "nbformat_minor": 0,
  "metadata": {
    "colab": {
      "name": "DNN with Multiple outputs.ipynb",
      "provenance": []
    },
    "kernelspec": {
      "name": "python3",
      "display_name": "Python 3"
    },
    "language_info": {
      "name": "python"
    }
  },
  "cells": [
    {
      "cell_type": "markdown",
      "source": [
        "***\n",
        "# Here is a neural network that takes one input and delivers two outputs\n",
        "***"
      ],
      "metadata": {
        "id": "-x7rViqCmiMs"
      }
    },
    {
      "cell_type": "code",
      "execution_count": 1,
      "metadata": {
        "id": "v-sXq_dIVJlb"
      },
      "outputs": [],
      "source": [
        "### As always I import all the platforms and libraries \n",
        "\n",
        "import tensorflow as tf\n",
        "import numpy as np\n",
        "import matplotlib.pyplot as plt\n",
        "import pandas as pd\n",
        "from tensorflow.keras.models import Model\n",
        "from tensorflow.keras.layers import Dense, Input\n",
        "from sklearn.model_selection import train_test_split\n"
      ]
    },
    {
      "cell_type": "code",
      "source": [
        "### Upload the data \n",
        "\n",
        "\n",
        "\n",
        "df = pd.read_excel('put your data location here')\n",
        "df = df.sample(frac=1).reset_index(drop=True)\n",
        "\n",
        "\n",
        "train, test = train_test_split(df, test_size=0.2)\n",
        "train_stats = train.describe()\n"
      ],
      "metadata": {
        "id": "Ns2_tX8lmum7"
      },
      "execution_count": null,
      "outputs": []
    },
    {
      "cell_type": "code",
      "source": [
        "### Here we have a few helper functions that we will use later\n",
        "### Not mandatory but makes the processes faster and smoother\n",
        "\n",
        "def format_output(data):\n",
        "    y1 = data.pop('Y1')\n",
        "    y1 = np.array(y1)\n",
        "    y2 = data.pop('Y2')\n",
        "    y2 = np.array(y2)\n",
        "    return y1, y2\n",
        "\n",
        "\n",
        "\n",
        "def norm(x):\n",
        "    return (x - train_stats['mean']) / train_stats['std']\n",
        "\n",
        "\n",
        "def plot_diff(y_true, y_pred, title=''):\n",
        "    plt.scatter(y_true, y_pred)\n",
        "    plt.title(title)\n",
        "    plt.xlabel('True Values')\n",
        "    plt.ylabel('Predictions')\n",
        "    plt.axis('equal')\n",
        "    plt.axis('square')\n",
        "    plt.xlim(plt.xlim())\n",
        "    plt.ylim(plt.ylim())\n",
        "    plt.plot([-100, 100], [-100, 100])\n",
        "    plt.show()\n",
        "\n",
        "\n",
        "def plot_metrics(metric_name, title, ylim=5):\n",
        "    plt.title(title)\n",
        "    plt.ylim(0, ylim)\n",
        "    plt.plot(history.history[metric_name], color='blue', label=metric_name)\n",
        "    plt.plot(history.history['val_' + metric_name], color='green', label='val_' + metric_name)\n",
        "    plt.show()"
      ],
      "metadata": {
        "id": "L7VbyReJnCb2"
      },
      "execution_count": null,
      "outputs": []
    },
    {
      "cell_type": "code",
      "source": [
        "### Split and normalize data\n",
        "### Notice that we need two Y arrays for two ouptus after \n",
        "\n",
        "\n",
        "train_stats.pop('Y1')\n",
        "train_stats.pop('Y2')\n",
        "train_stats = train_stats.transpose()\n",
        "train_Y = format_output(train)\n",
        "test_Y = format_output(test)\n",
        "\n",
        "\n",
        "norm_train_X = norm(train)\n",
        "norm_test_X = norm(test)"
      ],
      "metadata": {
        "id": "wgo4qkednrRp"
      },
      "execution_count": null,
      "outputs": []
    },
    {
      "cell_type": "code",
      "source": [
        "### Building the functional API model\n",
        "\n",
        "input_layer = Input(shape=(len(train .columns),))\n",
        "first_dense = Dense(units='128', activation='relu')(input_layer)\n",
        "second_dense = Dense(units='128', activation='relu')(first_dense)\n",
        "\n",
        "y1_output = Dense(units='1', name='y1_output')(second_dense)\n",
        "third_dense = Dense(units='64', activation='relu')(second_dense)\n",
        "\n",
        "y2_output = Dense(units='1', name='y2_output')(third_dense)\n",
        "\n",
        "model = Model(inputs=input_layer, outputs=[y1_output, y2_output])\n",
        "\n",
        "print(model.summary())"
      ],
      "metadata": {
        "id": "1lsdgX76oqC_"
      },
      "execution_count": null,
      "outputs": []
    },
    {
      "cell_type": "code",
      "source": [
        "### Compile the model\n",
        "\n",
        "opt = tf.keras.optimizers.SGD(lr=0.001)\n",
        "\n",
        "model.compile(optimizer=opt,\n",
        "              loss={'y1_output': 'mse', 'y2_output': 'mse'},\n",
        "              metrics={'y1_output': tf.keras.metrics.RootMeanSquaredError(),\n",
        "                       'y2_output': tf.keras.metrics.RootMeanSquaredError()})"
      ],
      "metadata": {
        "id": "oFo8yPW_o19B"
      },
      "execution_count": null,
      "outputs": []
    },
    {
      "cell_type": "code",
      "source": [
        "### Train model \n",
        "\n",
        "history = model.fit(norm_train_X, train_Y,\n",
        "                    epochs=500, batch_size=10, \n",
        "                    validation_data=(norm_test_X, test_Y, verbose=False))\n",
        "\n"
      ],
      "metadata": {
        "id": "dbCjRIwyo7Sx"
      },
      "execution_count": null,
      "outputs": []
    },
    {
      "cell_type": "code",
      "source": [
        "### Evaluate the model \n",
        "\n",
        "\n",
        "loss, Y1_loss, Y2_loss, Y1_rmse, Y2_rmse = model.evaluate(x=norm_test_X, y=test_Y)\n",
        "print(\"Loss = {}, Y1_loss = {}, Y1_mse = {}, Y2_loss = {}, Y2_mse = {}\".format(loss, Y1_loss, \n",
        "                                                                               Y1_rmse, Y2_loss, Y2_rmse))\n",
        "\n",
        "\n"
      ],
      "metadata": {
        "id": "tVkG0jnXpFaG"
      },
      "execution_count": null,
      "outputs": []
    },
    {
      "cell_type": "code",
      "source": [
        "#### Visualize the predictions and the loss \n",
        "\n",
        "Y_pred = model.predict(norm_test_X)\n",
        "plot_diff(test_Y[0], Y_pred[0], title='Y1')\n",
        "plot_diff(test_Y[1], Y_pred[1], title='Y2')\n",
        "plot_metrics(metric_name='y1_output_root_mean_squared_error', title='Y1 RMSE', ylim=6)\n",
        "plot_metrics(metric_name='y2_output_root_mean_squared_error', title='Y2 RMSE', ylim=7)"
      ],
      "metadata": {
        "id": "2-FRfYKwpUmP"
      },
      "execution_count": null,
      "outputs": []
    },
    {
      "cell_type": "markdown",
      "source": [
        "***\n",
        "# This was a network with two outputs Y\n",
        "\n",
        "***"
      ],
      "metadata": {
        "id": "MN70QOwjpV1Y"
      }
    },
    {
      "cell_type": "code",
      "source": [
        ""
      ],
      "metadata": {
        "id": "WoHL4Y9cpa37"
      },
      "execution_count": null,
      "outputs": []
    }
  ]
}